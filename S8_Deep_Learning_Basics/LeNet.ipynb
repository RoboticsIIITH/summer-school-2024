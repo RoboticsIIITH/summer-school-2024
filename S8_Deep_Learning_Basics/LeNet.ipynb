{
 "cells": [
  {
   "cell_type": "markdown",
   "metadata": {},
   "source": [
    "### Try running this script on Google Colab / Kaggle / Ada (if you have access)\n",
    "### This might take time if you run it on your local machine"
   ]
  },
  {
   "cell_type": "markdown",
   "metadata": {},
   "source": [
    "<hr>"
   ]
  },
  {
   "cell_type": "markdown",
   "metadata": {},
   "source": [
    "# Imports"
   ]
  },
  {
   "cell_type": "code",
   "execution_count": 1,
   "metadata": {},
   "outputs": [],
   "source": [
    "import torch\n",
    "import torch.nn as nn\n",
    "import torch.optim as optim\n",
    "\n",
    "from torchvision import datasets, transforms\n",
    "from sklearn.model_selection import train_test_split\n",
    "\n",
    "import numpy as np\n",
    "import matplotlib.pyplot as plt\n",
    "\n",
    "from tqdm import tqdm\n",
    "\n",
    "# Setting seed to ensure that results are reproducible\n",
    "RANDOM_SEED = 42\n",
    "np.random.seed(RANDOM_SEED)\n",
    "torch.manual_seed(RANDOM_SEED)\n",
    "torch.backends.cudnn.deterministic = True\n",
    "torch.backends.cudnn.benchmark     = False\n",
    "\n",
    "# Using GPU if available\n",
    "device = torch.device(\"cuda\" if torch.cuda.is_available() else \"cpu\")"
   ]
  },
  {
   "cell_type": "markdown",
   "metadata": {},
   "source": [
    "<hr>"
   ]
  },
  {
   "cell_type": "markdown",
   "metadata": {},
   "source": [
    "## Data preparation"
   ]
  },
  {
   "cell_type": "code",
   "execution_count": 2,
   "metadata": {},
   "outputs": [],
   "source": [
    "mnist_train = datasets.MNIST(root='data', train=True,  transform=transforms.ToTensor(), download=True)\n",
    "mnist_test  = datasets.MNIST(root='data', train=False, transform=transforms.ToTensor(), download=True)"
   ]
  },
  {
   "cell_type": "markdown",
   "metadata": {},
   "source": [
    "<hr>"
   ]
  },
  {
   "cell_type": "markdown",
   "metadata": {},
   "source": [
    "## LeNet on MNIST"
   ]
  },
  {
   "cell_type": "markdown",
   "metadata": {},
   "source": [
    "### Data preparation and loader"
   ]
  },
  {
   "cell_type": "code",
   "execution_count": 3,
   "metadata": {},
   "outputs": [],
   "source": [
    "class MNISTDataLoaders():\n",
    "    def __init__(self, batch_size=64, train_subset_size=None):\n",
    "        self.transform    = transforms.Compose([transforms.ToTensor(), transforms.Normalize((0.1307,), (0.3081,))])\n",
    "\n",
    "        self.train_data   = datasets.MNIST(root='data', train=True,  transform=self.transform, download=True)\n",
    "        self.test_data    = datasets.MNIST(root='data', train=False, transform=self.transform, download=True)\n",
    "\n",
    "        if train_subset_size is None or train_subset_size == len(self.train_data):\n",
    "            # Full dataset\n",
    "\n",
    "            self.train_loader = torch.utils.data.DataLoader(self.train_data, batch_size=batch_size, shuffle=True)\n",
    "\n",
    "        else:\n",
    "            # Subset of train split - Have to sample data such that each class has equal number of samples\n",
    "            # Hence using stratify\n",
    "\n",
    "            data_indices      = np.arange(len(self.train_data))\n",
    "            train_indices, _  = train_test_split(data_indices, train_size=train_subset_size, stratify=self.train_data.targets.numpy())\n",
    "\n",
    "            self.train_data   = torch.utils.data.Subset(self.train_data, train_indices)\n",
    "            self.train_loader = torch.utils.data.DataLoader(self.train_data, batch_size=batch_size, shuffle=True)\n",
    "\n",
    "        self.test_loader  = torch.utils.data.DataLoader(self.test_data,  batch_size=batch_size, shuffle=False)"
   ]
  },
  {
   "cell_type": "markdown",
   "metadata": {},
   "source": [
    "<hr>"
   ]
  },
  {
   "cell_type": "markdown",
   "metadata": {},
   "source": [
    "### Model architecture"
   ]
  },
  {
   "cell_type": "code",
   "execution_count": 4,
   "metadata": {},
   "outputs": [],
   "source": [
    "class LeNet(nn.Module):\n",
    "    def __init__(self):\n",
    "        super(LeNet, self).__init__()\n",
    "\n",
    "        self.conv1   = nn.Conv2d(in_channels=1, out_channels=6,  kernel_size=5)\n",
    "        self.conv2   = nn.Conv2d(in_channels=6, out_channels=16, kernel_size=5)\n",
    "\n",
    "        self.fc1     = nn.Linear(in_features=16*4*4, out_features=120)\n",
    "        self.fc2     = nn.Linear(in_features=120,    out_features=84)\n",
    "        self.fc3     = nn.Linear(in_features=84,     out_features=10)\n",
    "\n",
    "        self.pool    = nn.MaxPool2d(kernel_size=2, stride=2)\n",
    "\n",
    "        self.relu    = nn.ReLU()\n",
    "        self.softmax = nn.Softmax(dim=1)\n",
    "\n",
    "    def forward(self, x):\n",
    "        # Pytorch has convention (batch_size, channels, height, width)\n",
    "        x = x.view(-1, 1, 28, 28)\n",
    "\n",
    "        x = self.conv1(x) # x -> 24x24x6\n",
    "        x = self.pool(x)  # x -> 12x12x6\n",
    "        x = self.relu(x)\n",
    "\n",
    "        x = self.conv2(x) # x -> 8x8x16\n",
    "        x = self.pool(x)  # x -> 4x4x16\n",
    "        x = self.relu(x)\n",
    "\n",
    "        x = x.view(-1, 16*4*4) # x -> 1024 (Flattened to pass through fully connected layers)\n",
    "\n",
    "        x = self.fc1(x) # x -> 120\n",
    "        x = self.relu(x)\n",
    "\n",
    "        x = self.fc2(x) # x -> 84\n",
    "        x = self.relu(x)\n",
    "\n",
    "        x = self.fc3(x) # x -> 10 - As there are 10 digits\n",
    "        x = self.softmax(x) # For probabilities\n",
    "\n",
    "        return x"
   ]
  },
  {
   "cell_type": "markdown",
   "metadata": {},
   "source": [
    "<hr>"
   ]
  },
  {
   "cell_type": "markdown",
   "metadata": {},
   "source": [
    "### Trainer"
   ]
  },
  {
   "cell_type": "code",
   "execution_count": 5,
   "metadata": {},
   "outputs": [],
   "source": [
    "class Trainer():\n",
    "    def __init__(self, model, train_loader, test_loader, optimizer, criterion=nn.CrossEntropyLoss()):\n",
    "        self.model        = model\n",
    "        self.train_loader = train_loader\n",
    "        self.test_loader  = test_loader\n",
    "        self.optimizer    = optimizer\n",
    "        self.criterion    = criterion\n",
    "\n",
    "    def train_epoch(self, epochs=10):\n",
    "        for epoch in range(epochs):\n",
    "            self.model.train()\n",
    "\n",
    "            train_loss = 0.0\n",
    "            train_acc  = 0.0\n",
    "\n",
    "            train_progress_bar = tqdm(enumerate(self.train_loader), total=len(self.train_loader))\n",
    "            for batch_idx, (data, target) in train_progress_bar:\n",
    "                data, target = data.to(device), target.to(device)\n",
    "\n",
    "                self.optimizer.zero_grad()\n",
    "\n",
    "                output = self.model(data)\n",
    "\n",
    "                batch_loss  = self.criterion(output, target)\n",
    "                train_loss += batch_loss.mean().item()\n",
    "                batch_loss.backward()\n",
    "\n",
    "                pred         = output.argmax(dim=1)\n",
    "                train_acc  += (pred == target).sum().item() / len(target)\n",
    "\n",
    "                self.optimizer.step()\n",
    "\n",
    "                train_progress_bar.set_description(f'Epoch {epoch+1}/{epochs}: Train epoch')\n",
    "                train_progress_bar.set_postfix(Loss=train_loss/(batch_idx+1), Accuracy=train_acc/(batch_idx+1))\n",
    "\n",
    "            self.test_epoch(epoch, epochs)\n",
    "\n",
    "            print()\n",
    "\n",
    "        return train_acc / len(self.train_loader), train_loss / len(self.train_loader)\n",
    "\n",
    "    def test_epoch(self, epoch=None, epochs=None):\n",
    "        self.model.eval()\n",
    "\n",
    "        test_loss = 0\n",
    "        test_acc  = 0\n",
    "\n",
    "        with torch.no_grad():\n",
    "            test_progress_bar = tqdm(enumerate(self.test_loader), total=len(self.test_loader))\n",
    "            for batch_idx, (data, target) in test_progress_bar:\n",
    "                data, target = data.to(device), target.to(device)\n",
    "                output = self.model(data)\n",
    "\n",
    "                test_loss += self.criterion(output, target).mean().item()\n",
    "\n",
    "                pred       = output.argmax(dim=1)\n",
    "                test_acc  += (pred == target).sum().item() / len(target)\n",
    "\n",
    "                if epoch is not None and epochs is not None:\n",
    "                    test_progress_bar.set_description(f'Epoch {epoch+1}/{epochs}: Test epoch ')\n",
    "                    test_progress_bar.set_postfix(Loss=test_loss/(batch_idx+1), Accuracy=test_acc/(batch_idx+1))\n",
    "                else:\n",
    "                    test_progress_bar.set_postfix(Loss=test_loss/(batch_idx+1), Accuracy=test_acc/(batch_idx+1))\n",
    "\n",
    "        return test_acc / len(self.test_loader), test_loss / len(self.test_loader)\n",
    "\n",
    "    def predict(self, data):\n",
    "        self.model.eval()\n",
    "\n",
    "        with torch.no_grad():\n",
    "            output = self.model(data)\n",
    "            pred   = output.argmax(dim=1)\n",
    "\n",
    "        return pred"
   ]
  },
  {
   "cell_type": "markdown",
   "metadata": {},
   "source": [
    "<hr>"
   ]
  },
  {
   "cell_type": "code",
   "execution_count": 6,
   "metadata": {},
   "outputs": [
    {
     "name": "stderr",
     "output_type": "stream",
     "text": [
      "Epoch 1/5: Train epoch: 100%|██████████| 938/938 [00:31<00:00, 29.81it/s, Accuracy=0.826, Loss=1.64]\n",
      "Epoch 1/5: Test epoch : 100%|██████████| 157/157 [00:02<00:00, 63.94it/s, Accuracy=0.969, Loss=1.49]\n"
     ]
    },
    {
     "name": "stdout",
     "output_type": "stream",
     "text": [
      "\n"
     ]
    },
    {
     "name": "stderr",
     "output_type": "stream",
     "text": [
      "Epoch 2/5: Train epoch: 100%|██████████| 938/938 [00:17<00:00, 53.94it/s, Accuracy=0.969, Loss=1.49]\n",
      "Epoch 2/5: Test epoch : 100%|██████████| 157/157 [00:02<00:00, 61.51it/s, Accuracy=0.973, Loss=1.49]\n"
     ]
    },
    {
     "name": "stdout",
     "output_type": "stream",
     "text": [
      "\n"
     ]
    },
    {
     "name": "stderr",
     "output_type": "stream",
     "text": [
      "Epoch 3/5: Train epoch: 100%|██████████| 938/938 [00:16<00:00, 56.06it/s, Accuracy=0.975, Loss=1.49]\n",
      "Epoch 3/5: Test epoch : 100%|██████████| 157/157 [00:02<00:00, 59.64it/s, Accuracy=0.98, Loss=1.48] \n"
     ]
    },
    {
     "name": "stdout",
     "output_type": "stream",
     "text": [
      "\n"
     ]
    },
    {
     "name": "stderr",
     "output_type": "stream",
     "text": [
      "Epoch 4/5: Train epoch: 100%|██████████| 938/938 [00:17<00:00, 53.23it/s, Accuracy=0.98, Loss=1.48] \n",
      "Epoch 4/5: Test epoch : 100%|██████████| 157/157 [00:02<00:00, 62.49it/s, Accuracy=0.98, Loss=1.48] \n"
     ]
    },
    {
     "name": "stdout",
     "output_type": "stream",
     "text": [
      "\n"
     ]
    },
    {
     "name": "stderr",
     "output_type": "stream",
     "text": [
      "Epoch 5/5: Train epoch: 100%|██████████| 938/938 [00:17<00:00, 52.66it/s, Accuracy=0.982, Loss=1.48]\n",
      "Epoch 5/5: Test epoch : 100%|██████████| 157/157 [00:02<00:00, 61.46it/s, Accuracy=0.982, Loss=1.48]\n"
     ]
    },
    {
     "name": "stdout",
     "output_type": "stream",
     "text": [
      "\n"
     ]
    },
    {
     "data": {
      "text/plain": [
       "(0.9818430170575693, 1.479707878789922)"
      ]
     },
     "execution_count": 6,
     "metadata": {},
     "output_type": "execute_result"
    }
   ],
   "source": [
    "data_loaders = MNISTDataLoaders()\n",
    "train_loader = data_loaders.train_loader\n",
    "test_loader  = data_loaders.test_loader\n",
    "\n",
    "model        = LeNet().to(device)\n",
    "\n",
    "optimizer    = optim.Adam(model.parameters(), lr=0.001)\n",
    "\n",
    "trainer      = Trainer(model, train_loader, test_loader, optimizer)\n",
    "\n",
    "trainer.train_epoch(epochs=5)"
   ]
  },
  {
   "cell_type": "markdown",
   "metadata": {},
   "source": [
    "<hr>"
   ]
  },
  {
   "cell_type": "markdown",
   "metadata": {},
   "source": [
    "## Hyperparameter tuning on batch size, learning rate and optimizer"
   ]
  },
  {
   "cell_type": "code",
   "execution_count": 7,
   "metadata": {},
   "outputs": [
    {
     "name": "stdout",
     "output_type": "stream",
     "text": [
      "Training model with batch_size=64, lr=0.001 and Adam optimizer...\n"
     ]
    },
    {
     "name": "stderr",
     "output_type": "stream",
     "text": [
      "Epoch 1/5: Train epoch:   0%|          | 0/938 [00:00<?, ?it/s, Accuracy=0.0469, Loss=2.3]"
     ]
    },
    {
     "name": "stderr",
     "output_type": "stream",
     "text": [
      "Epoch 1/5: Train epoch: 100%|██████████| 938/938 [00:18<00:00, 51.60it/s, Accuracy=0.825, Loss=1.65]\n",
      "Epoch 1/5: Test epoch : 100%|██████████| 157/157 [00:02<00:00, 64.43it/s, Accuracy=0.879, Loss=1.58]\n"
     ]
    },
    {
     "name": "stdout",
     "output_type": "stream",
     "text": [
      "\n"
     ]
    },
    {
     "name": "stderr",
     "output_type": "stream",
     "text": [
      "Epoch 2/5: Train epoch: 100%|██████████| 938/938 [00:17<00:00, 53.00it/s, Accuracy=0.956, Loss=1.51]\n",
      "Epoch 2/5: Test epoch : 100%|██████████| 157/157 [00:02<00:00, 63.23it/s, Accuracy=0.973, Loss=1.49]\n"
     ]
    },
    {
     "name": "stdout",
     "output_type": "stream",
     "text": [
      "\n"
     ]
    },
    {
     "name": "stderr",
     "output_type": "stream",
     "text": [
      "Epoch 3/5: Train epoch: 100%|██████████| 938/938 [00:17<00:00, 53.11it/s, Accuracy=0.976, Loss=1.49]\n",
      "Epoch 3/5: Test epoch : 100%|██████████| 157/157 [00:02<00:00, 70.57it/s, Accuracy=0.981, Loss=1.48]\n"
     ]
    },
    {
     "name": "stdout",
     "output_type": "stream",
     "text": [
      "\n"
     ]
    },
    {
     "name": "stderr",
     "output_type": "stream",
     "text": [
      "Epoch 4/5: Train epoch: 100%|██████████| 938/938 [00:17<00:00, 53.18it/s, Accuracy=0.98, Loss=1.48] \n",
      "Epoch 4/5: Test epoch : 100%|██████████| 157/157 [00:02<00:00, 70.66it/s, Accuracy=0.985, Loss=1.48]\n"
     ]
    },
    {
     "name": "stdout",
     "output_type": "stream",
     "text": [
      "\n"
     ]
    },
    {
     "name": "stderr",
     "output_type": "stream",
     "text": [
      "Epoch 5/5: Train epoch: 100%|██████████| 938/938 [00:17<00:00, 54.08it/s, Accuracy=0.982, Loss=1.48]\n",
      "Epoch 5/5: Test epoch : 100%|██████████| 157/157 [00:02<00:00, 62.52it/s, Accuracy=0.979, Loss=1.48]\n"
     ]
    },
    {
     "name": "stdout",
     "output_type": "stream",
     "text": [
      "\n",
      "Evaluation on test set...\n"
     ]
    },
    {
     "name": "stderr",
     "output_type": "stream",
     "text": [
      "100%|██████████| 157/157 [00:02<00:00, 69.25it/s, Accuracy=0.979, Loss=1.48]\n"
     ]
    },
    {
     "name": "stdout",
     "output_type": "stream",
     "text": [
      "====================================================\n",
      "\n",
      "Training model with batch_size=32, lr=0.001 and Adam optimizer...\n"
     ]
    },
    {
     "name": "stderr",
     "output_type": "stream",
     "text": [
      "Epoch 1/5: Train epoch: 100%|██████████| 1875/1875 [00:23<00:00, 78.21it/s, Accuracy=0.923, Loss=1.54]\n",
      "Epoch 1/5: Test epoch : 100%|██████████| 313/313 [00:03<00:00, 94.56it/s, Accuracy=0.963, Loss=1.5] \n"
     ]
    },
    {
     "name": "stdout",
     "output_type": "stream",
     "text": [
      "\n"
     ]
    },
    {
     "name": "stderr",
     "output_type": "stream",
     "text": [
      "Epoch 2/5: Train epoch: 100%|██████████| 1875/1875 [00:24<00:00, 76.57it/s, Accuracy=0.97, Loss=1.49] \n",
      "Epoch 2/5: Test epoch : 100%|██████████| 313/313 [00:02<00:00, 106.66it/s, Accuracy=0.972, Loss=1.49]\n"
     ]
    },
    {
     "name": "stdout",
     "output_type": "stream",
     "text": [
      "\n"
     ]
    },
    {
     "name": "stderr",
     "output_type": "stream",
     "text": [
      "Epoch 3/5: Train epoch: 100%|██████████| 1875/1875 [00:23<00:00, 78.97it/s, Accuracy=0.976, Loss=1.48]\n",
      "Epoch 3/5: Test epoch : 100%|██████████| 313/313 [00:03<00:00, 100.09it/s, Accuracy=0.981, Loss=1.48]\n"
     ]
    },
    {
     "name": "stdout",
     "output_type": "stream",
     "text": [
      "\n"
     ]
    },
    {
     "name": "stderr",
     "output_type": "stream",
     "text": [
      "Epoch 4/5: Train epoch: 100%|██████████| 1875/1875 [00:24<00:00, 77.56it/s, Accuracy=0.978, Loss=1.48]\n",
      "Epoch 4/5: Test epoch : 100%|██████████| 313/313 [00:02<00:00, 107.24it/s, Accuracy=0.977, Loss=1.48]\n"
     ]
    },
    {
     "name": "stdout",
     "output_type": "stream",
     "text": [
      "\n"
     ]
    },
    {
     "name": "stderr",
     "output_type": "stream",
     "text": [
      "Epoch 5/5: Train epoch: 100%|██████████| 1875/1875 [00:23<00:00, 79.21it/s, Accuracy=0.98, Loss=1.48] \n",
      "Epoch 5/5: Test epoch : 100%|██████████| 313/313 [00:02<00:00, 119.52it/s, Accuracy=0.985, Loss=1.48]\n"
     ]
    },
    {
     "name": "stdout",
     "output_type": "stream",
     "text": [
      "\n",
      "Evaluation on test set...\n"
     ]
    },
    {
     "name": "stderr",
     "output_type": "stream",
     "text": [
      "100%|██████████| 313/313 [00:02<00:00, 123.21it/s, Accuracy=0.985, Loss=1.48]\n"
     ]
    },
    {
     "name": "stdout",
     "output_type": "stream",
     "text": [
      "====================================================\n",
      "\n",
      "Training model with batch_size=64, lr=0.0001 and Adam optimizer...\n"
     ]
    },
    {
     "name": "stderr",
     "output_type": "stream",
     "text": [
      "Epoch 1/5: Train epoch: 100%|██████████| 938/938 [00:17<00:00, 52.81it/s, Accuracy=0.611, Loss=1.87]\n",
      "Epoch 1/5: Test epoch : 100%|██████████| 157/157 [00:02<00:00, 62.69it/s, Accuracy=0.751, Loss=1.72]\n"
     ]
    },
    {
     "name": "stdout",
     "output_type": "stream",
     "text": [
      "\n"
     ]
    },
    {
     "name": "stderr",
     "output_type": "stream",
     "text": [
      "Epoch 2/5: Train epoch: 100%|██████████| 938/938 [00:17<00:00, 53.92it/s, Accuracy=0.758, Loss=1.71]\n",
      "Epoch 2/5: Test epoch : 100%|██████████| 157/157 [00:02<00:00, 63.02it/s, Accuracy=0.77, Loss=1.69] \n"
     ]
    },
    {
     "name": "stdout",
     "output_type": "stream",
     "text": [
      "\n"
     ]
    },
    {
     "name": "stderr",
     "output_type": "stream",
     "text": [
      "Epoch 3/5: Train epoch: 100%|██████████| 938/938 [00:16<00:00, 55.54it/s, Accuracy=0.771, Loss=1.69]\n",
      "Epoch 3/5: Test epoch : 100%|██████████| 157/157 [00:02<00:00, 62.26it/s, Accuracy=0.777, Loss=1.68]\n"
     ]
    },
    {
     "name": "stdout",
     "output_type": "stream",
     "text": [
      "\n"
     ]
    },
    {
     "name": "stderr",
     "output_type": "stream",
     "text": [
      "Epoch 4/5: Train epoch: 100%|██████████| 938/938 [00:17<00:00, 53.27it/s, Accuracy=0.778, Loss=1.68]\n",
      "Epoch 4/5: Test epoch : 100%|██████████| 157/157 [00:02<00:00, 64.34it/s, Accuracy=0.779, Loss=1.68]\n"
     ]
    },
    {
     "name": "stdout",
     "output_type": "stream",
     "text": [
      "\n"
     ]
    },
    {
     "name": "stderr",
     "output_type": "stream",
     "text": [
      "Epoch 5/5: Train epoch: 100%|██████████| 938/938 [00:17<00:00, 52.18it/s, Accuracy=0.782, Loss=1.68]\n",
      "Epoch 5/5: Test epoch : 100%|██████████| 157/157 [00:02<00:00, 70.58it/s, Accuracy=0.782, Loss=1.68]\n"
     ]
    },
    {
     "name": "stdout",
     "output_type": "stream",
     "text": [
      "\n",
      "Evaluation on test set...\n"
     ]
    },
    {
     "name": "stderr",
     "output_type": "stream",
     "text": [
      "100%|██████████| 157/157 [00:02<00:00, 69.82it/s, Accuracy=0.782, Loss=1.68]\n"
     ]
    },
    {
     "name": "stdout",
     "output_type": "stream",
     "text": [
      "====================================================\n",
      "\n",
      "Training model with batch_size=64, lr=0.001 and SGD optimizer...\n"
     ]
    },
    {
     "name": "stderr",
     "output_type": "stream",
     "text": [
      "Epoch 1/5: Train epoch: 100%|██████████| 938/938 [00:16<00:00, 55.22it/s, Accuracy=0.112, Loss=2.3]\n",
      "Epoch 1/5: Test epoch : 100%|██████████| 157/157 [00:02<00:00, 60.29it/s, Accuracy=0.119, Loss=2.3]\n"
     ]
    },
    {
     "name": "stdout",
     "output_type": "stream",
     "text": [
      "\n"
     ]
    },
    {
     "name": "stderr",
     "output_type": "stream",
     "text": [
      "Epoch 2/5: Train epoch: 100%|██████████| 938/938 [00:16<00:00, 56.98it/s, Accuracy=0.13, Loss=2.3] \n",
      "Epoch 2/5: Test epoch : 100%|██████████| 157/157 [00:02<00:00, 63.97it/s, Accuracy=0.14, Loss=2.3] \n"
     ]
    },
    {
     "name": "stdout",
     "output_type": "stream",
     "text": [
      "\n"
     ]
    },
    {
     "name": "stderr",
     "output_type": "stream",
     "text": [
      "Epoch 3/5: Train epoch: 100%|██████████| 938/938 [00:17<00:00, 53.98it/s, Accuracy=0.149, Loss=2.3]\n",
      "Epoch 3/5: Test epoch : 100%|██████████| 157/157 [00:02<00:00, 62.16it/s, Accuracy=0.161, Loss=2.3]\n"
     ]
    },
    {
     "name": "stdout",
     "output_type": "stream",
     "text": [
      "\n"
     ]
    },
    {
     "name": "stderr",
     "output_type": "stream",
     "text": [
      "Epoch 4/5: Train epoch: 100%|██████████| 938/938 [00:16<00:00, 56.20it/s, Accuracy=0.168, Loss=2.3]\n",
      "Epoch 4/5: Test epoch : 100%|██████████| 157/157 [00:02<00:00, 63.02it/s, Accuracy=0.179, Loss=2.3]\n"
     ]
    },
    {
     "name": "stdout",
     "output_type": "stream",
     "text": [
      "\n"
     ]
    },
    {
     "name": "stderr",
     "output_type": "stream",
     "text": [
      "Epoch 5/5: Train epoch: 100%|██████████| 938/938 [00:17<00:00, 53.82it/s, Accuracy=0.181, Loss=2.3]\n",
      "Epoch 5/5: Test epoch : 100%|██████████| 157/157 [00:02<00:00, 61.67it/s, Accuracy=0.187, Loss=2.3]\n"
     ]
    },
    {
     "name": "stdout",
     "output_type": "stream",
     "text": [
      "\n",
      "Evaluation on test set...\n"
     ]
    },
    {
     "name": "stderr",
     "output_type": "stream",
     "text": [
      "100%|██████████| 157/157 [00:02<00:00, 69.58it/s, Accuracy=0.187, Loss=2.3]\n"
     ]
    },
    {
     "name": "stdout",
     "output_type": "stream",
     "text": [
      "====================================================\n",
      "\n",
      "Training model with batch_size=32, lr=0.001 and SGD optimizer...\n"
     ]
    },
    {
     "name": "stderr",
     "output_type": "stream",
     "text": [
      "Epoch 1/5: Train epoch: 100%|██████████| 1875/1875 [00:23<00:00, 79.34it/s, Accuracy=0.105, Loss=2.3]\n",
      "Epoch 1/5: Test epoch : 100%|██████████| 313/313 [00:03<00:00, 98.01it/s, Accuracy=0.103, Loss=2.3]  \n"
     ]
    },
    {
     "name": "stdout",
     "output_type": "stream",
     "text": [
      "\n"
     ]
    },
    {
     "name": "stderr",
     "output_type": "stream",
     "text": [
      "Epoch 2/5: Train epoch: 100%|██████████| 1875/1875 [00:23<00:00, 81.10it/s, Accuracy=0.107, Loss=2.3]\n",
      "Epoch 2/5: Test epoch : 100%|██████████| 313/313 [00:02<00:00, 119.12it/s, Accuracy=0.105, Loss=2.3] \n"
     ]
    },
    {
     "name": "stdout",
     "output_type": "stream",
     "text": [
      "\n"
     ]
    },
    {
     "name": "stderr",
     "output_type": "stream",
     "text": [
      "Epoch 3/5: Train epoch: 100%|██████████| 1875/1875 [00:23<00:00, 78.29it/s, Accuracy=0.11, Loss=2.3] \n",
      "Epoch 3/5: Test epoch : 100%|██████████| 313/313 [00:03<00:00, 99.79it/s, Accuracy=0.111, Loss=2.3] \n"
     ]
    },
    {
     "name": "stdout",
     "output_type": "stream",
     "text": [
      "\n"
     ]
    },
    {
     "name": "stderr",
     "output_type": "stream",
     "text": [
      "Epoch 4/5: Train epoch: 100%|██████████| 1875/1875 [00:23<00:00, 80.05it/s, Accuracy=0.12, Loss=2.3] \n",
      "Epoch 4/5: Test epoch : 100%|██████████| 313/313 [00:02<00:00, 105.79it/s, Accuracy=0.124, Loss=2.3]\n"
     ]
    },
    {
     "name": "stdout",
     "output_type": "stream",
     "text": [
      "\n"
     ]
    },
    {
     "name": "stderr",
     "output_type": "stream",
     "text": [
      "Epoch 5/5: Train epoch: 100%|██████████| 1875/1875 [00:23<00:00, 80.43it/s, Accuracy=0.139, Loss=2.3]\n",
      "Epoch 5/5: Test epoch : 100%|██████████| 313/313 [00:03<00:00, 100.12it/s, Accuracy=0.146, Loss=2.3]\n"
     ]
    },
    {
     "name": "stdout",
     "output_type": "stream",
     "text": [
      "\n",
      "Evaluation on test set...\n"
     ]
    },
    {
     "name": "stderr",
     "output_type": "stream",
     "text": [
      "100%|██████████| 313/313 [00:02<00:00, 130.66it/s, Accuracy=0.146, Loss=2.3]\n"
     ]
    },
    {
     "name": "stdout",
     "output_type": "stream",
     "text": [
      "====================================================\n",
      "\n",
      "Training model with batch_size=64, lr=0.0001 and SGD optimizer...\n"
     ]
    },
    {
     "name": "stderr",
     "output_type": "stream",
     "text": [
      "Epoch 1/5: Train epoch: 100%|██████████| 938/938 [00:17<00:00, 53.57it/s, Accuracy=0.1, Loss=2.3]   \n",
      "Epoch 1/5: Test epoch : 100%|██████████| 157/157 [00:02<00:00, 62.87it/s, Accuracy=0.1, Loss=2.3]   \n"
     ]
    },
    {
     "name": "stdout",
     "output_type": "stream",
     "text": [
      "\n"
     ]
    },
    {
     "name": "stderr",
     "output_type": "stream",
     "text": [
      "Epoch 2/5: Train epoch: 100%|██████████| 938/938 [00:17<00:00, 52.54it/s, Accuracy=0.101, Loss=2.3] \n",
      "Epoch 2/5: Test epoch : 100%|██████████| 157/157 [00:02<00:00, 61.13it/s, Accuracy=0.101, Loss=2.3]\n"
     ]
    },
    {
     "name": "stdout",
     "output_type": "stream",
     "text": [
      "\n"
     ]
    },
    {
     "name": "stderr",
     "output_type": "stream",
     "text": [
      "Epoch 3/5: Train epoch: 100%|██████████| 938/938 [00:16<00:00, 57.58it/s, Accuracy=0.101, Loss=2.3] \n",
      "Epoch 3/5: Test epoch : 100%|██████████| 157/157 [00:02<00:00, 63.71it/s, Accuracy=0.101, Loss=2.3]\n"
     ]
    },
    {
     "name": "stdout",
     "output_type": "stream",
     "text": [
      "\n"
     ]
    },
    {
     "name": "stderr",
     "output_type": "stream",
     "text": [
      "Epoch 4/5: Train epoch: 100%|██████████| 938/938 [00:17<00:00, 54.23it/s, Accuracy=0.101, Loss=2.3] \n",
      "Epoch 4/5: Test epoch : 100%|██████████| 157/157 [00:02<00:00, 61.71it/s, Accuracy=0.101, Loss=2.3]\n"
     ]
    },
    {
     "name": "stdout",
     "output_type": "stream",
     "text": [
      "\n"
     ]
    },
    {
     "name": "stderr",
     "output_type": "stream",
     "text": [
      "Epoch 5/5: Train epoch: 100%|██████████| 938/938 [00:17<00:00, 54.14it/s, Accuracy=0.101, Loss=2.3]\n",
      "Epoch 5/5: Test epoch : 100%|██████████| 157/157 [00:02<00:00, 62.80it/s, Accuracy=0.101, Loss=2.3]\n"
     ]
    },
    {
     "name": "stdout",
     "output_type": "stream",
     "text": [
      "\n",
      "Evaluation on test set...\n"
     ]
    },
    {
     "name": "stderr",
     "output_type": "stream",
     "text": [
      "100%|██████████| 157/157 [00:02<00:00, 67.55it/s, Accuracy=0.101, Loss=2.3]"
     ]
    },
    {
     "name": "stdout",
     "output_type": "stream",
     "text": [
      "====================================================\n",
      "\n"
     ]
    },
    {
     "name": "stderr",
     "output_type": "stream",
     "text": [
      "\n"
     ]
    }
   ],
   "source": [
    "configs = [\n",
    "    {'batch_size': 64, 'lr': 0.001,  'optimizer': 'Adam'},\n",
    "    {'batch_size': 32, 'lr': 0.001,  'optimizer': 'Adam'},\n",
    "    {'batch_size': 64, 'lr': 0.0001, 'optimizer': 'Adam'},\n",
    "    {'batch_size': 64, 'lr': 0.001,  'optimizer': 'SGD'},\n",
    "    {'batch_size': 32, 'lr': 0.001,  'optimizer': 'SGD'},\n",
    "    {'batch_size': 64, 'lr': 0.0001, 'optimizer': 'SGD'}\n",
    "]\n",
    "\n",
    "max_accuracy = 0\n",
    "accuracies   = []\n",
    "best_config  = None\n",
    "\n",
    "for config in configs:\n",
    "    data_loaders = MNISTDataLoaders(batch_size=config['batch_size'])\n",
    "    train_loader = data_loaders.train_loader\n",
    "    test_loader  = data_loaders.test_loader\n",
    "\n",
    "    model        = LeNet().to(device)\n",
    "\n",
    "    if config['optimizer'] == 'Adam':\n",
    "        optimizer = optim.Adam(model.parameters(), lr=config['lr'])\n",
    "    else:\n",
    "        optimizer = optim.SGD(model.parameters(), lr=config['lr'])\n",
    "\n",
    "    trainer      = Trainer(model, train_loader, test_loader, optimizer)\n",
    "\n",
    "    print(f\"Training model with batch_size={config['batch_size']}, lr={config['lr']} and {config['optimizer']} optimizer...\")\n",
    "    trainer.train_epoch(epochs=5)\n",
    "\n",
    "    print(\"Evaluation on test set...\")\n",
    "    accuracy, _  = trainer.test_epoch()\n",
    "\n",
    "    accuracies.append(accuracy)\n",
    "\n",
    "    if accuracy > max_accuracy:\n",
    "        max_accuracy = accuracy\n",
    "        best_config  = config\n",
    "\n",
    "    print(\"====================================================\")\n",
    "    print()"
   ]
  },
  {
   "cell_type": "code",
   "execution_count": 8,
   "metadata": {},
   "outputs": [
    {
     "data": {
      "image/png": "[encoded data removed]",
      "text/plain": [
       "<Figure size 640x480 with 1 Axes>"
      ]
     },
     "metadata": {},
     "output_type": "display_data"
    }
   ],
   "source": [
    "plt.plot(  [f'{config[\"batch_size\"]}, {config[\"lr\"]}, {config[\"optimizer\"]}' for config in configs], accuracies, marker='o')\n",
    "plt.xticks([f'{config[\"batch_size\"]}, {config[\"lr\"]}, {config[\"optimizer\"]}' for config in configs], rotation=45)\n",
    "plt.xlabel('(Batch size, Learning rate, Optimizer)')\n",
    "plt.ylabel('Test accuracy')\n",
    "plt.title('Hyperparameter tuning on batch size, learning rate and optimizer')\n",
    "plt.show()"
   ]
  },
  {
   "cell_type": "markdown",
   "metadata": {},
   "source": [
    "- ### As we can see the Adam optimizer greatly outperforms the SGD optimiser in terms of accuracy\n",
    "- ### The next thing we can notice is the impact of learning rate: A lesser learning rate of 1e-4 converges slower and has worse performance as compared to a higher learning rate of 1e-3\n",
    "- ### The batch size does not have a significant impact on the performance of the model\n",
    "- ### Hence, we can deduce that the optimizer and the learning rate are the most important hyperparameters to tune\n",
    "\n",
    "- ### The best configuration for the LeNet model is:\n",
    "    - ### Optimizer = Adam\n",
    "    - ### Learning rate = 1e-3\n",
    "    - ### Batch size = 32"
   ]
  },
  {
   "cell_type": "markdown",
   "metadata": {},
   "source": [
    "<hr>"
   ]
  },
  {
   "cell_type": "markdown",
   "metadata": {},
   "source": [
    "## Doubling number of convolutional layers in LeNet"
   ]
  },
  {
   "cell_type": "code",
   "execution_count": 9,
   "metadata": {},
   "outputs": [
    {
     "name": "stderr",
     "output_type": "stream",
     "text": [
      "Epoch 1/5: Train epoch:   0%|          | 0/938 [00:00<?, ?it/s, Accuracy=0.105, Loss=2.3] "
     ]
    },
    {
     "name": "stderr",
     "output_type": "stream",
     "text": [
      "Epoch 1/5: Train epoch: 100%|██████████| 938/938 [00:18<00:00, 50.25it/s, Accuracy=0.868, Loss=1.6] \n",
      "Epoch 1/5: Test epoch : 100%|██████████| 157/157 [00:02<00:00, 60.26it/s, Accuracy=0.967, Loss=1.5] \n"
     ]
    },
    {
     "name": "stdout",
     "output_type": "stream",
     "text": [
      "\n"
     ]
    },
    {
     "name": "stderr",
     "output_type": "stream",
     "text": [
      "Epoch 2/5: Train epoch: 100%|██████████| 938/938 [00:18<00:00, 50.15it/s, Accuracy=0.963, Loss=1.5]\n",
      "Epoch 2/5: Test epoch : 100%|██████████| 157/157 [00:02<00:00, 69.26it/s, Accuracy=0.97, Loss=1.49] \n"
     ]
    },
    {
     "name": "stdout",
     "output_type": "stream",
     "text": [
      "\n"
     ]
    },
    {
     "name": "stderr",
     "output_type": "stream",
     "text": [
      "Epoch 3/5: Train epoch: 100%|██████████| 938/938 [00:16<00:00, 55.98it/s, Accuracy=0.969, Loss=1.49]\n",
      "Epoch 3/5: Test epoch : 100%|██████████| 157/157 [00:02<00:00, 69.18it/s, Accuracy=0.979, Loss=1.48]\n"
     ]
    },
    {
     "name": "stdout",
     "output_type": "stream",
     "text": [
      "\n"
     ]
    },
    {
     "name": "stderr",
     "output_type": "stream",
     "text": [
      "Epoch 4/5: Train epoch: 100%|██████████| 938/938 [00:18<00:00, 50.59it/s, Accuracy=0.974, Loss=1.49]\n",
      "Epoch 4/5: Test epoch : 100%|██████████| 157/157 [00:02<00:00, 59.43it/s, Accuracy=0.974, Loss=1.49]\n"
     ]
    },
    {
     "name": "stdout",
     "output_type": "stream",
     "text": [
      "\n"
     ]
    },
    {
     "name": "stderr",
     "output_type": "stream",
     "text": [
      "Epoch 5/5: Train epoch: 100%|██████████| 938/938 [00:18<00:00, 49.80it/s, Accuracy=0.975, Loss=1.49]\n",
      "Epoch 5/5: Test epoch : 100%|██████████| 157/157 [00:02<00:00, 62.30it/s, Accuracy=0.977, Loss=1.48]\n"
     ]
    },
    {
     "name": "stdout",
     "output_type": "stream",
     "text": [
      "\n"
     ]
    },
    {
     "data": {
      "text/plain": [
       "(0.9753131663113006, 1.485776006285824)"
      ]
     },
     "execution_count": 9,
     "metadata": {},
     "output_type": "execute_result"
    }
   ],
   "source": [
    "class DoubleLeNet(nn.Module):\n",
    "    def __init__(self):\n",
    "        super(DoubleLeNet, self).__init__()\n",
    "\n",
    "        self.conv1 = nn.Conv2d(in_channels=1,  out_channels=6,  kernel_size=5, padding=2)\n",
    "        self.conv2 = nn.Conv2d(in_channels=6,  out_channels=16, kernel_size=5, padding=2)\n",
    "        self.conv3 = nn.Conv2d(in_channels=16, out_channels=32, kernel_size=3, padding=2)\n",
    "        self.conv4 = nn.Conv2d(in_channels=32, out_channels=64, kernel_size=3, padding=2)\n",
    "\n",
    "        self.fc1   = nn.Linear(in_features=64*3*3, out_features=120)\n",
    "        self.fc2   = nn.Linear(in_features=120,    out_features=84)\n",
    "        self.fc3   = nn.Linear(in_features=84,     out_features=10)\n",
    "\n",
    "        self.pool  = nn.MaxPool2d(kernel_size=2, stride=2)\n",
    "\n",
    "        self.relu    = nn.ReLU()\n",
    "        self.softmax = nn.Softmax(dim=1)\n",
    "\n",
    "    def forward(self, x):\n",
    "        # Pytorch has convention (batch_size, channels, height, width)\n",
    "        x = x.view(-1, 1, 28, 28)\n",
    "\n",
    "        x = self.conv1(x) # x -> 28x28x6\n",
    "        x = self.pool(x)  # x -> 14x14x6\n",
    "        x = self.relu(x)\n",
    "\n",
    "        x = self.conv2(x) # x -> 14x14x16\n",
    "        x = self.pool(x)  # x -> 7x7x16\n",
    "        x = self.relu(x)\n",
    "\n",
    "        x = self.conv3(x) # x -> 9x9x32\n",
    "        x = self.pool(x)  # x -> 4x4x32\n",
    "\n",
    "        x = self.conv4(x) # x -> 6x6x64\n",
    "        x = self.pool(x)  # x -> 3x3x64\n",
    "        x = self.relu(x)\n",
    "\n",
    "        x = x.view(-1, 64*3*3) # x -> 576 (Flattened to pass through fully connected layers)\n",
    "\n",
    "        x = self.fc1(x) # x -> 120\n",
    "        x = self.relu(x)\n",
    "\n",
    "        x = self.fc2(x) # x -> 84\n",
    "        x = self.relu(x)\n",
    "\n",
    "        x = self.fc3(x) # x -> 10\n",
    "        x = self.softmax(x) # For probabilities\n",
    "\n",
    "        return x\n",
    "\n",
    "double_data_loaders = MNISTDataLoaders()\n",
    "double_train_loader = double_data_loaders.train_loader\n",
    "double_test_loader  = double_data_loaders.test_loader\n",
    "\n",
    "double_model        = DoubleLeNet().to(device)\n",
    "\n",
    "double_optimizer    = optim.Adam(double_model.parameters(), lr=0.001)\n",
    "\n",
    "double_trainer      = Trainer(double_model, double_train_loader, double_test_loader, double_optimizer)\n",
    "\n",
    "double_trainer.train_epoch(epochs=5)"
   ]
  },
  {
   "cell_type": "markdown",
   "metadata": {},
   "source": [
    "- ### As we can see from the above run, the performance has not changed much inspite of doubling the number of convolutional layers\n",
    "- ### Some changes to the architecture had to be made - in terms of kernel size and padding to keep the feature maps large enough by the time they reach the last layer\n",
    "\n",
    "- ### This can be explained by the fact that the relations present in the data can be learnt by the normal LeNet model and more complexity does not help in providing additional information\n",
    "- ### We can also see that the performance is slightly lesser as compared to the normal LeBNet model and this might be an indication of possible overfitting"
   ]
  },
  {
   "cell_type": "markdown",
   "metadata": {},
   "source": [
    "<hr>"
   ]
  },
  {
   "cell_type": "markdown",
   "metadata": {},
   "source": [
    "## Accuracy v/s Number of training samples"
   ]
  },
  {
   "cell_type": "code",
   "execution_count": 10,
   "metadata": {},
   "outputs": [
    {
     "name": "stdout",
     "output_type": "stream",
     "text": [
      "Training with 600 samples...\n"
     ]
    },
    {
     "name": "stderr",
     "output_type": "stream",
     "text": [
      "Epoch 1/5: Train epoch:   0%|          | 0/19 [00:00<?, ?it/s, Accuracy=0.125, Loss=2.3]"
     ]
    },
    {
     "name": "stderr",
     "output_type": "stream",
     "text": [
      "Epoch 1/5: Train epoch: 100%|██████████| 19/19 [00:00<00:00, 75.17it/s, Accuracy=0.238, Loss=2.29]\n",
      "Epoch 1/5: Test epoch : 100%|██████████| 313/313 [00:03<00:00, 97.43it/s, Accuracy=0.375, Loss=2.24] \n"
     ]
    },
    {
     "name": "stdout",
     "output_type": "stream",
     "text": [
      "\n"
     ]
    },
    {
     "name": "stderr",
     "output_type": "stream",
     "text": [
      "Epoch 2/5: Train epoch: 100%|██████████| 19/19 [00:00<00:00, 73.48it/s, Accuracy=0.448, Loss=2.1] \n",
      "Epoch 2/5: Test epoch : 100%|██████████| 313/313 [00:03<00:00, 98.91it/s, Accuracy=0.574, Loss=1.93] \n"
     ]
    },
    {
     "name": "stdout",
     "output_type": "stream",
     "text": [
      "\n"
     ]
    },
    {
     "name": "stderr",
     "output_type": "stream",
     "text": [
      "Epoch 3/5: Train epoch: 100%|██████████| 19/19 [00:00<00:00, 78.37it/s, Accuracy=0.647, Loss=1.85]\n",
      "Epoch 3/5: Test epoch : 100%|██████████| 313/313 [00:03<00:00, 97.16it/s, Accuracy=0.676, Loss=1.81] \n"
     ]
    },
    {
     "name": "stdout",
     "output_type": "stream",
     "text": [
      "\n"
     ]
    },
    {
     "name": "stderr",
     "output_type": "stream",
     "text": [
      "Epoch 4/5: Train epoch: 100%|██████████| 19/19 [00:00<00:00, 83.36it/s, Accuracy=0.719, Loss=1.76]\n",
      "Epoch 4/5: Test epoch : 100%|██████████| 313/313 [00:03<00:00, 98.09it/s, Accuracy=0.785, Loss=1.7]  \n"
     ]
    },
    {
     "name": "stdout",
     "output_type": "stream",
     "text": [
      "\n"
     ]
    },
    {
     "name": "stderr",
     "output_type": "stream",
     "text": [
      "Epoch 5/5: Train epoch: 100%|██████████| 19/19 [00:00<00:00, 72.84it/s, Accuracy=0.787, Loss=1.69]\n",
      "Epoch 5/5: Test epoch : 100%|██████████| 313/313 [00:03<00:00, 101.20it/s, Accuracy=0.786, Loss=1.69]\n"
     ]
    },
    {
     "name": "stdout",
     "output_type": "stream",
     "text": [
      "\n",
      "Evaluating the model on test set...\n"
     ]
    },
    {
     "name": "stderr",
     "output_type": "stream",
     "text": [
      "100%|██████████| 313/313 [00:02<00:00, 117.92it/s, Accuracy=0.786, Loss=1.69]\n"
     ]
    },
    {
     "name": "stdout",
     "output_type": "stream",
     "text": [
      "====================================================\n",
      "\n",
      "Training with 1800 samples...\n"
     ]
    },
    {
     "name": "stderr",
     "output_type": "stream",
     "text": [
      "Epoch 1/5: Train epoch: 100%|██████████| 57/57 [00:00<00:00, 82.09it/s, Accuracy=0.321, Loss=2.17]\n",
      "Epoch 1/5: Test epoch : 100%|██████████| 313/313 [00:03<00:00, 102.23it/s, Accuracy=0.586, Loss=1.91]\n"
     ]
    },
    {
     "name": "stdout",
     "output_type": "stream",
     "text": [
      "\n"
     ]
    },
    {
     "name": "stderr",
     "output_type": "stream",
     "text": [
      "Epoch 2/5: Train epoch: 100%|██████████| 57/57 [00:00<00:00, 74.24it/s, Accuracy=0.661, Loss=1.82]\n",
      "Epoch 2/5: Test epoch : 100%|██████████| 313/313 [00:02<00:00, 108.31it/s, Accuracy=0.727, Loss=1.74]\n"
     ]
    },
    {
     "name": "stdout",
     "output_type": "stream",
     "text": [
      "\n"
     ]
    },
    {
     "name": "stderr",
     "output_type": "stream",
     "text": [
      "Epoch 3/5: Train epoch: 100%|██████████| 57/57 [00:00<00:00, 74.69it/s, Accuracy=0.776, Loss=1.7] \n",
      "Epoch 3/5: Test epoch : 100%|██████████| 313/313 [00:03<00:00, 101.11it/s, Accuracy=0.782, Loss=1.69]\n"
     ]
    },
    {
     "name": "stdout",
     "output_type": "stream",
     "text": [
      "\n"
     ]
    },
    {
     "name": "stderr",
     "output_type": "stream",
     "text": [
      "Epoch 4/5: Train epoch: 100%|██████████| 57/57 [00:00<00:00, 82.69it/s, Accuracy=0.855, Loss=1.62]\n",
      "Epoch 4/5: Test epoch : 100%|██████████| 313/313 [00:03<00:00, 103.81it/s, Accuracy=0.901, Loss=1.57]\n"
     ]
    },
    {
     "name": "stdout",
     "output_type": "stream",
     "text": [
      "\n"
     ]
    },
    {
     "name": "stderr",
     "output_type": "stream",
     "text": [
      "Epoch 5/5: Train epoch: 100%|██████████| 57/57 [00:00<00:00, 82.65it/s, Accuracy=0.91, Loss=1.56] \n",
      "Epoch 5/5: Test epoch : 100%|██████████| 313/313 [00:03<00:00, 97.22it/s, Accuracy=0.915, Loss=1.56] \n"
     ]
    },
    {
     "name": "stdout",
     "output_type": "stream",
     "text": [
      "\n",
      "Evaluating the model on test set...\n"
     ]
    },
    {
     "name": "stderr",
     "output_type": "stream",
     "text": [
      "100%|██████████| 313/313 [00:02<00:00, 117.48it/s, Accuracy=0.915, Loss=1.56]\n"
     ]
    },
    {
     "name": "stdout",
     "output_type": "stream",
     "text": [
      "====================================================\n",
      "\n",
      "Training with 6000 samples...\n"
     ]
    },
    {
     "name": "stderr",
     "output_type": "stream",
     "text": [
      "Epoch 1/5: Train epoch: 100%|██████████| 188/188 [00:02<00:00, 77.22it/s, Accuracy=0.629, Loss=1.86]\n",
      "Epoch 1/5: Test epoch : 100%|██████████| 313/313 [00:03<00:00, 99.06it/s, Accuracy=0.8, Loss=1.68]   \n"
     ]
    },
    {
     "name": "stdout",
     "output_type": "stream",
     "text": [
      "\n"
     ]
    },
    {
     "name": "stderr",
     "output_type": "stream",
     "text": [
      "Epoch 2/5: Train epoch: 100%|██████████| 188/188 [00:02<00:00, 78.76it/s, Accuracy=0.86, Loss=1.61] \n",
      "Epoch 2/5: Test epoch : 100%|██████████| 313/313 [00:02<00:00, 115.43it/s, Accuracy=0.923, Loss=1.54]\n"
     ]
    },
    {
     "name": "stdout",
     "output_type": "stream",
     "text": [
      "\n"
     ]
    },
    {
     "name": "stderr",
     "output_type": "stream",
     "text": [
      "Epoch 3/5: Train epoch: 100%|██████████| 188/188 [00:02<00:00, 78.04it/s, Accuracy=0.926, Loss=1.54]\n",
      "Epoch 3/5: Test epoch : 100%|██████████| 313/313 [00:03<00:00, 103.23it/s, Accuracy=0.929, Loss=1.54]\n"
     ]
    },
    {
     "name": "stdout",
     "output_type": "stream",
     "text": [
      "\n"
     ]
    },
    {
     "name": "stderr",
     "output_type": "stream",
     "text": [
      "Epoch 4/5: Train epoch: 100%|██████████| 188/188 [00:02<00:00, 76.89it/s, Accuracy=0.94, Loss=1.52] \n",
      "Epoch 4/5: Test epoch : 100%|██████████| 313/313 [00:02<00:00, 105.02it/s, Accuracy=0.944, Loss=1.52]\n"
     ]
    },
    {
     "name": "stdout",
     "output_type": "stream",
     "text": [
      "\n"
     ]
    },
    {
     "name": "stderr",
     "output_type": "stream",
     "text": [
      "Epoch 5/5: Train epoch: 100%|██████████| 188/188 [00:02<00:00, 78.69it/s, Accuracy=0.953, Loss=1.51]\n",
      "Epoch 5/5: Test epoch : 100%|██████████| 313/313 [00:03<00:00, 99.32it/s, Accuracy=0.954, Loss=1.51] \n"
     ]
    },
    {
     "name": "stdout",
     "output_type": "stream",
     "text": [
      "\n",
      "Evaluating the model on test set...\n"
     ]
    },
    {
     "name": "stderr",
     "output_type": "stream",
     "text": [
      "100%|██████████| 313/313 [00:02<00:00, 113.92it/s, Accuracy=0.954, Loss=1.51]\n"
     ]
    },
    {
     "name": "stdout",
     "output_type": "stream",
     "text": [
      "====================================================\n",
      "\n",
      "Training with 18000 samples...\n"
     ]
    },
    {
     "name": "stderr",
     "output_type": "stream",
     "text": [
      "Epoch 1/5: Train epoch: 100%|██████████| 282/282 [00:05<00:00, 53.75it/s, Accuracy=0.69, Loss=1.79] \n",
      "Epoch 1/5: Test epoch : 100%|██████████| 157/157 [00:02<00:00, 62.42it/s, Accuracy=0.832, Loss=1.63]\n"
     ]
    },
    {
     "name": "stdout",
     "output_type": "stream",
     "text": [
      "\n"
     ]
    },
    {
     "name": "stderr",
     "output_type": "stream",
     "text": [
      "Epoch 2/5: Train epoch: 100%|██████████| 282/282 [00:05<00:00, 54.24it/s, Accuracy=0.88, Loss=1.59] \n",
      "Epoch 2/5: Test epoch : 100%|██████████| 157/157 [00:02<00:00, 60.94it/s, Accuracy=0.94, Loss=1.52] \n"
     ]
    },
    {
     "name": "stdout",
     "output_type": "stream",
     "text": [
      "\n"
     ]
    },
    {
     "name": "stderr",
     "output_type": "stream",
     "text": [
      "Epoch 3/5: Train epoch: 100%|██████████| 282/282 [00:05<00:00, 52.75it/s, Accuracy=0.95, Loss=1.51] \n",
      "Epoch 3/5: Test epoch : 100%|██████████| 157/157 [00:02<00:00, 60.33it/s, Accuracy=0.96, Loss=1.5]  \n"
     ]
    },
    {
     "name": "stdout",
     "output_type": "stream",
     "text": [
      "\n"
     ]
    },
    {
     "name": "stderr",
     "output_type": "stream",
     "text": [
      "Epoch 4/5: Train epoch: 100%|██████████| 282/282 [00:04<00:00, 57.46it/s, Accuracy=0.96, Loss=1.5]  \n",
      "Epoch 4/5: Test epoch : 100%|██████████| 157/157 [00:02<00:00, 59.95it/s, Accuracy=0.96, Loss=1.5]  \n"
     ]
    },
    {
     "name": "stdout",
     "output_type": "stream",
     "text": [
      "\n"
     ]
    },
    {
     "name": "stderr",
     "output_type": "stream",
     "text": [
      "Epoch 5/5: Train epoch: 100%|██████████| 282/282 [00:05<00:00, 53.57it/s, Accuracy=0.967, Loss=1.5] \n",
      "Epoch 5/5: Test epoch : 100%|██████████| 157/157 [00:02<00:00, 70.48it/s, Accuracy=0.967, Loss=1.5]\n"
     ]
    },
    {
     "name": "stdout",
     "output_type": "stream",
     "text": [
      "\n",
      "Evaluating the model on test set...\n"
     ]
    },
    {
     "name": "stderr",
     "output_type": "stream",
     "text": [
      "100%|██████████| 157/157 [00:02<00:00, 73.54it/s, Accuracy=0.967, Loss=1.5]\n"
     ]
    },
    {
     "name": "stdout",
     "output_type": "stream",
     "text": [
      "====================================================\n",
      "\n",
      "Training with 60000 samples...\n"
     ]
    },
    {
     "name": "stderr",
     "output_type": "stream",
     "text": [
      "Epoch 1/5: Train epoch: 100%|██████████| 938/938 [00:17<00:00, 53.94it/s, Accuracy=0.87, Loss=1.6]  \n",
      "Epoch 1/5: Test epoch : 100%|██████████| 157/157 [00:02<00:00, 61.83it/s, Accuracy=0.961, Loss=1.5] \n"
     ]
    },
    {
     "name": "stdout",
     "output_type": "stream",
     "text": [
      "\n"
     ]
    },
    {
     "name": "stderr",
     "output_type": "stream",
     "text": [
      "Epoch 2/5: Train epoch: 100%|██████████| 938/938 [00:17<00:00, 53.36it/s, Accuracy=0.966, Loss=1.5]\n",
      "Epoch 2/5: Test epoch : 100%|██████████| 157/157 [00:02<00:00, 67.89it/s, Accuracy=0.972, Loss=1.49]\n"
     ]
    },
    {
     "name": "stdout",
     "output_type": "stream",
     "text": [
      "\n"
     ]
    },
    {
     "name": "stderr",
     "output_type": "stream",
     "text": [
      "Epoch 3/5: Train epoch: 100%|██████████| 938/938 [00:17<00:00, 53.57it/s, Accuracy=0.973, Loss=1.49]\n",
      "Epoch 3/5: Test epoch : 100%|██████████| 157/157 [00:02<00:00, 61.69it/s, Accuracy=0.977, Loss=1.48]\n"
     ]
    },
    {
     "name": "stdout",
     "output_type": "stream",
     "text": [
      "\n"
     ]
    },
    {
     "name": "stderr",
     "output_type": "stream",
     "text": [
      "Epoch 4/5: Train epoch: 100%|██████████| 938/938 [00:17<00:00, 52.94it/s, Accuracy=0.978, Loss=1.48]\n",
      "Epoch 4/5: Test epoch : 100%|██████████| 157/157 [00:02<00:00, 61.40it/s, Accuracy=0.981, Loss=1.48]\n"
     ]
    },
    {
     "name": "stdout",
     "output_type": "stream",
     "text": [
      "\n"
     ]
    },
    {
     "name": "stderr",
     "output_type": "stream",
     "text": [
      "Epoch 5/5: Train epoch: 100%|██████████| 938/938 [00:17<00:00, 53.05it/s, Accuracy=0.98, Loss=1.48] \n",
      "Epoch 5/5: Test epoch : 100%|██████████| 157/157 [00:02<00:00, 61.40it/s, Accuracy=0.984, Loss=1.48]\n"
     ]
    },
    {
     "name": "stdout",
     "output_type": "stream",
     "text": [
      "\n",
      "Evaluating the model on test set...\n"
     ]
    },
    {
     "name": "stderr",
     "output_type": "stream",
     "text": [
      "100%|██████████| 157/157 [00:02<00:00, 68.23it/s, Accuracy=0.984, Loss=1.48]"
     ]
    },
    {
     "name": "stdout",
     "output_type": "stream",
     "text": [
      "====================================================\n",
      "\n"
     ]
    },
    {
     "name": "stderr",
     "output_type": "stream",
     "text": [
      "\n"
     ]
    }
   ],
   "source": [
    "train_dataset_sizes = [600, 1800, 6000, 18000, 60000]\n",
    "accuracies          = []\n",
    "\n",
    "for train_dataset_size in train_dataset_sizes:\n",
    "    print(f\"Training with {train_dataset_size} samples...\")\n",
    "\n",
    "    batch_size   = 32 if train_dataset_size < 10000 else 64\n",
    "    data_loaders = MNISTDataLoaders(batch_size=batch_size, train_subset_size=train_dataset_size)\n",
    "    train_loader = data_loaders.train_loader\n",
    "    test_loader  = data_loaders.test_loader\n",
    "\n",
    "    model        = LeNet().to(device)\n",
    "\n",
    "    optimizer    = optim.Adam(model.parameters(), lr=0.001)\n",
    "\n",
    "    trainer      = Trainer(model, train_loader, test_loader, optimizer)\n",
    "\n",
    "    trainer.train_epoch(epochs=5)\n",
    "\n",
    "    print(\"Evaluating the model on test set...\")\n",
    "    test_acc, _ = trainer.test_epoch()\n",
    "    accuracies.append(test_acc)\n",
    "\n",
    "    print(\"====================================================\")\n",
    "    print()"
   ]
  },
  {
   "cell_type": "code",
   "execution_count": 11,
   "metadata": {},
   "outputs": [
    {
     "data": {
      "image/png": "[encoded data removed]",
      "text/plain": [
       "<Figure size 640x480 with 1 Axes>"
      ]
     },
     "metadata": {},
     "output_type": "display_data"
    }
   ],
   "source": [
    "plt.plot([str(size) for size in train_dataset_sizes], accuracies, marker='o')\n",
    "plt.xlabel('Number of samples in training set')\n",
    "plt.ylabel('Test accuracy')\n",
    "plt.title('Accuracy vs. Size of training data')\n",
    "plt.show()"
   ]
  },
  {
   "cell_type": "markdown",
   "metadata": {},
   "source": [
    "- ### We can see that intially, the accuracy is fairly low in comparision to the models trained with more data\n",
    "- ### This is indicative of the necessity of more data for CNNs\n",
    "- ### But notice that the accuracy jumps by a huge amount with just a small increase in the amount of data\n",
    "  - ### This can be explained by the fact that due to the uniform distribution of data across all labels, the increase in data is enough for the CNN to capture all the required patterns in the data\n",
    "- ### An interesting observation is that the model does not benefit much from adding more data after a point - Consider the jump from 6K images to 18K images to 60K images\n",
    "  - ### Nearly similar performance for one-tenth, two-fifths and full data"
   ]
  },
  {
   "cell_type": "markdown",
   "metadata": {},
   "source": [
    "<hr>"
   ]
  }
 ],
 "metadata": {
  "kernelspec": {
   "display_name": "cv",
   "language": "python",
   "name": "python3"
  },
  "language_info": {
   "codemirror_mode": {
    "name": "ipython",
    "version": 3
   },
   "file_extension": ".py",
   "mimetype": "text/x-python",
   "name": "python",
   "nbconvert_exporter": "python",
   "pygments_lexer": "ipython3",
   "version": "3.10.13"
  }
 },
 "nbformat": 4,
 "nbformat_minor": 2
}
