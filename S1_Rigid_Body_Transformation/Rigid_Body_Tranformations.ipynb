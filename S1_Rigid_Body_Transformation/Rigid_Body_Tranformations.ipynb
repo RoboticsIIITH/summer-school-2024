{
 "cells": [
  {
   "cell_type": "markdown",
   "metadata": {},
   "source": [
    "# Transformations and representations"
   ]
  },
  {
   "cell_type": "markdown",
   "metadata": {},
   "source": [
    "##### Imports"
   ]
  },
  {
   "cell_type": "code",
   "execution_count": 2,
   "metadata": {},
   "outputs": [
    {
     "name": "stdout",
     "output_type": "stream",
     "text": [
      "Jupyter environment detected. Enabling Open3D WebVisualizer.\n",
      "[Open3D INFO] WebRTC GUI backend enabled.\n",
      "[Open3D INFO] WebRTCWindowSystem: HTTP handshake server disabled.\n"
     ]
    }
   ],
   "source": [
    "import numpy as np\n",
    "from scipy.optimize import fsolve\n",
    "import math\n",
    "import plotly.graph_objects as go\n",
    "from plotly.subplots import make_subplots\n",
    "import plotly.io as pio\n",
    "pio.templates.default='plotly_dark'\n",
    "\n",
    "import matplotlib.pyplot as plt\n",
    "import math\n",
    "from pylab import *\n",
    "from mpl_toolkits.mplot3d import Axes3D\n",
    "from numpy.linalg import norm\n",
    "import copy\n",
    "import open3d as o3d\n",
    "import time\n",
    "\n",
    "import ai2thor.controller\n",
    "from PIL import Image\n",
    "import ipywidgets as widgets\n",
    "from IPython.display import display\n",
    "import json\n",
    "from datetime import datetime"
   ]
  },
  {
   "cell_type": "markdown",
   "metadata": {},
   "source": [
    "## 1. Euler angles"
   ]
  },
  {
   "cell_type": "markdown",
   "metadata": {},
   "source": [
    "Function that returns a rotation matrix given the angles (𝛼, 𝛽, 𝛾) in radians (X-Y-Z)"
   ]
  },
  {
   "cell_type": "code",
   "execution_count": 5,
   "metadata": {},
   "outputs": [],
   "source": [
    "pi = np.pi\n",
    "\n",
    "def rotation_matrix(alpha,beta,gamma):\n",
    "\n",
    "    R = np.array([[0.72907076 , -0.56745855 ,0.38268343],\n",
    "                  [0.64785386 , 0.39180184 , -0.65328148],\n",
    "                  [0.22077409 , 0.72421137 , 0.65328148]])\n",
    "    # Rotation about x axis\n",
    "    Rx = np.array([[1, 0, 0],\n",
    "                   [0, np.cos(alpha), -np.sin(alpha)],\n",
    "                   [0, np.sin(alpha), np.cos(alpha)]])\n",
    "    \n",
    "    # Rotation about y axis    \n",
    "    Ry = np.array([[np.cos(beta), 0, np.sin(beta)],\n",
    "                   [0, 1, 0],\n",
    "                   [-np.sin(beta), 0, np.cos(beta)]])\n",
    "    \n",
    "    # Rotation about z axis\n",
    "    Rz = np.array([[np.cos(gamma), -np.sin(gamma), 0],\n",
    "                   [np.sin(gamma), np.cos(gamma), 0],\n",
    "                   [0, 0, 1]])\n",
    "    \n",
    "    # Final Rotation matrix\n",
    "\n",
    "    R_zyx = np.dot(Rz,np.dot(Rx,Ry))\n",
    "\n",
    "    return R_zyx\n",
    "\n"
   ]
  },
  {
   "cell_type": "code",
   "execution_count": 6,
   "metadata": {},
   "outputs": [
    {
     "name": "stdout",
     "output_type": "stream",
     "text": [
      "Rotation Matrix (𝛼, 𝛽, 𝛾):\n",
      "[[-0.04000876 -0.5566704   0.82976947]\n",
      " [ 0.57976947  0.66341395  0.47302146]\n",
      " [-0.81379768  0.5         0.29619813]]\n"
     ]
    }
   ],
   "source": [
    "a1 = pi/6   # Alpha\n",
    "a2 = (7*pi)/18 # Beta\n",
    "a3 = (2*pi)/9 # Gamma\n",
    "\n",
    "print(\"Rotation Matrix (𝛼, 𝛽, 𝛾):\")\n",
    "print( rotation_matrix(a1,a2,a3))"
   ]
  },
  {
   "cell_type": "markdown",
   "metadata": {},
   "source": [
    "Using fsolve "
   ]
  },
  {
   "cell_type": "code",
   "execution_count": 7,
   "metadata": {},
   "outputs": [
    {
     "name": "stdout",
     "output_type": "stream",
     "text": [
      "Euler Angles (𝛼, 𝛽, 𝛾): [0.78539816 0.39269908 0.66138792]\n"
     ]
    }
   ],
   "source": [
    "\n",
    "def euler_equations(angles):\n",
    "    # cos =  np.cos\n",
    "    # sin = np.sin\n",
    "    # pi = np.pi\n",
    "\n",
    "    alpha,beta,gamma = angles\n",
    "    R = np.array([[0.72907076 , -0.56745855 ,0.38268343],\n",
    "                  [0.64785386 , 0.39180184 , -0.65328148],\n",
    "                  [0.22077409 , 0.72421137 , 0.65328148]])\n",
    "    # Rotation about x axis\n",
    "    Rx = np.array([[1, 0, 0],\n",
    "                   [0, np.cos(alpha), -np.sin(alpha)],\n",
    "                   [0, np.sin(alpha), np.cos(alpha)]])\n",
    "    \n",
    "    # Rotation about y axis    \n",
    "    Ry = np.array([[np.cos(beta), 0, np.sin(beta)],\n",
    "                   [0, 1, 0],\n",
    "                   [-np.sin(beta), 0, np.cos(beta)]])\n",
    "    \n",
    "    # Rotation about z axis\n",
    "    Rz = np.array([[np.cos(gamma), -np.sin(gamma), 0],\n",
    "                   [np.sin(gamma), np.cos(gamma), 0],\n",
    "                   [0, 0, 1]])\n",
    "    \n",
    "    # Final Rotation matrix\n",
    "    R_xyz = np.dot(np.dot(Rx,Ry),Rz)\n",
    "\n",
    "    result = R_xyz - R\n",
    "    return [result[0][1], result[0][2], result[1][2]]\n",
    "    \n",
    "initial_gu = [0.2,0.2,0.3]\n",
    "\n",
    "\n",
    "\n",
    "# Initial guess for the Euler angles\n",
    "initial_guess = [0, 0, 0]\n",
    "\n",
    "# Solve the system of equations to find Euler angles\n",
    "euler_angles = fsolve(euler_equations, initial_gu)\n",
    "print(\"Euler Angles (𝛼, 𝛽, 𝛾):\", euler_angles)"
   ]
  },
  {
   "cell_type": "markdown",
   "metadata": {},
   "source": [
    "## 2. Gimbal Lock"
   ]
  },
  {
   "cell_type": "code",
   "execution_count": 3,
   "metadata": {},
   "outputs": [
    {
     "name": "stderr",
     "output_type": "stream",
     "text": [
      "libGL error: MESA-LOADER: failed to open iris: /usr/lib/dri/iris_dri.so: cannot open shared object file: No such file or directory (search paths /usr/lib/x86_64-linux-gnu/dri:\\$${ORIGIN}/dri:/usr/lib/dri, suffix _dri)\n",
      "libGL error: failed to load driver: iris\n",
      "libGL error: MESA-LOADER: failed to open iris: /usr/lib/dri/iris_dri.so: cannot open shared object file: No such file or directory (search paths /usr/lib/x86_64-linux-gnu/dri:\\$${ORIGIN}/dri:/usr/lib/dri, suffix _dri)\n",
      "libGL error: failed to load driver: iris\n",
      "libGL error: MESA-LOADER: failed to open swrast: /usr/lib/dri/swrast_dri.so: cannot open shared object file: No such file or directory (search paths /usr/lib/x86_64-linux-gnu/dri:\\$${ORIGIN}/dri:/usr/lib/dri, suffix _dri)\n",
      "libGL error: failed to load driver: swrast\n"
     ]
    },
    {
     "name": "stdout",
     "output_type": "stream",
     "text": [
      "\u001b[1;33m[Open3D WARNING] GLFW Error: GLX: Failed to create context: GLXBadFBConfig\u001b[0;m\n",
      "\u001b[1;33m[Open3D WARNING] Failed to create window\u001b[0;m\n"
     ]
    }
   ],
   "source": [
    "# Load the point cloud\n",
    "file_path = 'data/toothless.ply'\n",
    "point_cloud = o3d.io.read_point_cloud(file_path)\n",
    "mesh_frame = o3d.geometry.TriangleMesh.create_coordinate_frame(size=110, origin=[0, 0, 0])\n",
    "\n",
    "\n",
    "\n",
    "# Create a visualization window\n",
    "vis = o3d.visualization.Visualizer()\n",
    "vis.create_window()\n",
    "\n",
    "# Add the point cloud to the visualization\n",
    "vis.add_geometry(point_cloud)\n",
    "\n",
    "vis.add_geometry(mesh_frame)\n",
    "# Create coordinate frame geometries for visualization\n",
    "coord_frame_x = o3d.geometry.TriangleMesh.create_coordinate_frame(size=1.0, origin=[0, 0, 0])\n",
    "coord_frame_y = o3d.geometry.TriangleMesh.create_coordinate_frame(size=1.0, origin=[0, 0, 0])\n",
    "coord_frame_z = o3d.geometry.TriangleMesh.create_coordinate_frame(size=1.0, origin=[0, 0, 0])\n",
    "\n",
    "# Add coordinate frames to the visualization\n",
    "vis.add_geometry(coord_frame_x)\n",
    "vis.add_geometry(coord_frame_y)\n",
    "vis.add_geometry(coord_frame_z)\n",
    "\n",
    "# Define animation parameters\n",
    "num_steps_x = 10  # Number of animation steps for X-axis rotation (90 degrees)\n",
    "num_steps_y = 10  # Number of animation steps for Y-axis rotation (90 degrees)\n",
    "num_steps_z = 10  # Number of animation steps for Z-axis rotation (90 degrees)\n",
    "\n",
    "\n",
    "# Create animation loop for Y-axis rotation (90 degrees)\n",
    "for _ in range(num_steps_y):\n",
    "    transformation = np.identity(4)\n",
    "    rotation_matrix = np.array([[math.cos(math.radians(90 / num_steps_y)), 0, math.sin(math.radians(90 / num_steps_y))],\n",
    "                                [0, 1, 0],\n",
    "                                [-math.sin(math.radians(90 / num_steps_y)), 0, math.cos(math.radians(90 / num_steps_y))]])\n",
    "\n",
    "    transformation[:3, :3] = rotation_matrix\n",
    "\n",
    "    # Update the transformation of the point cloud\n",
    "    point_cloud.transform(transformation)\n",
    "    mesh_frame.rotate(rotation_matrix)\n",
    "\n",
    "    # Update the visualization\n",
    "    vis.update_geometry(point_cloud)\n",
    "    vis.poll_events()\n",
    "    vis.update_renderer()\n",
    "    time.sleep(0.1)\n",
    "\n",
    "\n",
    "for _ in range(num_steps_x):\n",
    "    transformation = np.identity(4)\n",
    "    rotation_matrix = np.array([[1, 0, 0],\n",
    "                                [0, math.cos(math.radians(90/num_steps_x)), -math.sin(math.radians(90/num_steps_x))],\n",
    "                                [0, math.sin(math.radians(90/num_steps_x)), math.cos(math.radians(90/num_steps_x))]])\n",
    "\n",
    "    transformation[:3, :3] = rotation_matrix\n",
    "\n",
    "    # Update the transformation of the point cloud\n",
    "    point_cloud.transform(transformation)\n",
    "    mesh_frame.rotate(rotation_matrix)\n",
    "    # Update the visualization\n",
    "    vis.update_geometry(point_cloud)\n",
    "    vis.poll_events()\n",
    "    vis.update_renderer()\n",
    "    time.sleep(0.1)\n",
    "    # Create animation loop for Y-axis rotation (90 degrees)\n",
    "for _ in range(num_steps_y):\n",
    "    transformation = np.identity(4)\n",
    "    rotation_matrix = np.array([[math.cos(math.radians(90 / num_steps_y)), 0, math.sin(math.radians(90 / num_steps_y))],\n",
    "                                [0, 1, 0],\n",
    "                                [-math.sin(math.radians(90 / num_steps_y)), 0, math.cos(math.radians(90 / num_steps_y))]])\n",
    "\n",
    "    transformation[:3, :3] = rotation_matrix\n",
    "\n",
    "    # Update the transformation of the point cloud\n",
    "    point_cloud.transform(transformation)\n",
    "    mesh_frame.rotate(rotation_matrix)\n",
    "    # Update the visualization\n",
    "    vis.update_geometry(point_cloud)\n",
    "    vis.poll_events()\n",
    "    vis.update_renderer()\n",
    "    time.sleep(0.1)\n"
   ]
  },
  {
   "cell_type": "markdown",
   "metadata": {},
   "source": [
    "## 3. Quaternions"
   ]
  },
  {
   "cell_type": "markdown",
   "metadata": {},
   "source": [
    "Rotation Matrix to Quaternion Conversion"
   ]
  },
  {
   "cell_type": "code",
   "execution_count": 11,
   "metadata": {},
   "outputs": [],
   "source": [
    "\n",
    "def rotation_matrix_to_quaternion(R):\n",
    "    # Ensure the input matrix is a valid rotation matrix (orthogonal and determinant 1)\n",
    "    if not np.allclose(np.linalg.det(R), 1.0) or not np.allclose(np.dot(R.T, R), np.identity(3)):\n",
    "        raise ValueError(\"Input matrix is not a valid rotation matrix.\")\n",
    "\n",
    "    trace = np.trace(R)\n",
    "    \n",
    "    if trace > 0:\n",
    "        S = 2.0 * np.sqrt(trace + 1.0)\n",
    "        qw = 0.25 * S\n",
    "        qx = (R[2, 1] - R[1, 2]) / S\n",
    "        qy = (R[0, 2] - R[2, 0]) / S\n",
    "        qz = (R[1, 0] - R[0, 1]) / S\n",
    "    elif R[0, 0] > R[1, 1] and R[0, 0] > R[2, 2]:\n",
    "        S = 2.0 * np.sqrt(1.0 + R[0, 0] - R[1, 1] - R[2, 2])\n",
    "        qw = (R[2, 1] - R[1, 2]) / S\n",
    "        qx = 0.25 * S\n",
    "        qy = (R[0, 1] + R[1, 0]) / S\n",
    "        qz = (R[0, 2] + R[2, 0]) / S\n",
    "    elif R[1, 1] > R[2, 2]:\n",
    "        S = 2.0 * np.sqrt(1.0 + R[1, 1] - R[0, 0] - R[2, 2])\n",
    "        qw = (R[0, 2] - R[2, 0]) / S\n",
    "        qx = (R[0, 1] + R[1, 0]) / S\n",
    "        qy = 0.25 * S\n",
    "        qz = (R[1, 2] + R[2, 1]) / S\n",
    "    else:\n",
    "        S = 2.0 * np.sqrt(1.0 + R[2, 2] - R[0, 0] - R[1, 1])\n",
    "        qw = (R[1, 0] - R[0, 1]) / S\n",
    "        qx = (R[0, 2] + R[2, 0]) / S\n",
    "        qy = (R[1, 2] + R[2, 1]) / S\n",
    "        qz = 0.25 * S\n",
    "    \n",
    "    return np.array([qw, qx, qy, qz])\n",
    "\n",
    "\n",
    "\n"
   ]
  },
  {
   "cell_type": "code",
   "execution_count": 12,
   "metadata": {},
   "outputs": [
    {
     "name": "stdout",
     "output_type": "stream",
     "text": [
      "Quaternion:  [0.70710678 0.         0.         0.70710678]\n"
     ]
    }
   ],
   "source": [
    "# rotation_matrix = np.array([[1,0,0],[0,1,0],[0,0,1]])\n",
    "rotation_matrix = np.array([[0,-1,0],[1,0,0],[0,0,1]])\n",
    "# rotation_matrix = np.array([[0,0,1],[0,1,0],[-1,0,0]])\n",
    "\n",
    "q = rotation_matrix_to_quaternion(rotation_matrix)\n",
    "print(\"Quaternion: \",q)\n"
   ]
  },
  {
   "cell_type": "markdown",
   "metadata": {},
   "source": [
    "Quaternion to Rotation Matrix"
   ]
  },
  {
   "cell_type": "code",
   "execution_count": 10,
   "metadata": {},
   "outputs": [],
   "source": [
    "\n",
    "\n",
    "def quaternion_to_rotation_matrix(q):\n",
    "    qw, qx, qy, qz = q\n",
    "    R = np.array([\n",
    "        [1 - 2*qy**2 - 2*qz**2, 2*qx*qy - 2*qz*qw, 2*qx*qz + 2*qy*qw],\n",
    "        [2*qx*qy + 2*qz*qw, 1 - 2*qx**2 - 2*qz**2, 2*qy*qz - 2*qx*qw],\n",
    "        [2*qx*qz - 2*qy*qw, 2*qy*qz + 2*qx*qw, 1 - 2*qx**2 - 2*qy**2]])\n",
    "    return np.around(R,4)\n"
   ]
  },
  {
   "cell_type": "code",
   "execution_count": 9,
   "metadata": {},
   "outputs": [
    {
     "name": "stdout",
     "output_type": "stream",
     "text": [
      "Rotation Matrix:\n",
      " [[ 0. -1.  0.]\n",
      " [ 1.  0.  0.]\n",
      " [ 0.  0.  1.]]\n"
     ]
    }
   ],
   "source": [
    "# Example usage:\n",
    "quaternion = np.array([0.7071, 0.0, 0.0, 0.7071])  # Replace with your quaternion\n",
    "rotation_matrix = quaternion_to_rotation_matrix(quaternion)\n",
    "print(\"Rotation Matrix:\\n\", rotation_matrix)"
   ]
  },
  {
   "cell_type": "markdown",
   "metadata": {},
   "source": [
    "Matrix multiplication of two 3×3 rotation matrices and the same transformation in the quaternion space"
   ]
  },
  {
   "cell_type": "code",
   "execution_count": 13,
   "metadata": {},
   "outputs": [
    {
     "name": "stdout",
     "output_type": "stream",
     "text": [
      "Rotation matrix after multiplication is : \n",
      "[[0 0 1]\n",
      " [1 0 0]\n",
      " [0 1 0]]\n",
      "Combined Quaternion (Matrix Conversion): [0.5 0.5 0.5 0.5]\n",
      "Combined Quaternion (Direct Multiplication): [0.5 0.5 0.5 0.5]\n",
      "Transformations are the same.\n"
     ]
    }
   ],
   "source": [
    "\n",
    "# point P in space\n",
    "P = [1,1,1]\n",
    "# Define two 3x3 rotation matrices\n",
    "rotation_matrix1 = np.array([[1,0, 0],\n",
    "                             [0,0,-1],\n",
    "                             [0, 1, 0]])\n",
    "\n",
    "rotation_matrix2 = np.array([[0,0,1],\n",
    "                             [0,1,0],\n",
    "                             [-1, 0, 0]])\n",
    "\n",
    "# Multiply the two rotation matrices R = R1.R2\n",
    "combined_rotation_matrix = np.dot(rotation_matrix1, rotation_matrix2)\n",
    "print(\"Rotation matrix after multiplication is : \")\n",
    "print(combined_rotation_matrix)\n",
    "\n",
    "def rotation_matrix_to_quaternion(R):\n",
    "    # Ensure the input matrix is a valid rotation matrix (orthogonal and determinant 1)\n",
    "    if not np.allclose(np.linalg.det(R), 1.0) or not np.allclose(np.dot(R.T, R), np.identity(3)):\n",
    "        raise ValueError(\"Input matrix is not a valid rotation matrix.\")\n",
    "\n",
    "    trace = np.trace(R)\n",
    "    \n",
    "    if trace > 0:\n",
    "        S = 2.0 * np.sqrt(trace + 1.0)\n",
    "        qw = 0.25 * S\n",
    "        qx = (R[2, 1] - R[1, 2]) / S\n",
    "        qy = (R[0, 2] - R[2, 0]) / S\n",
    "        qz = (R[1, 0] - R[0, 1]) / S\n",
    "    elif R[0, 0] > R[1, 1] and R[0, 0] > R[2, 2]:\n",
    "        S = 2.0 * np.sqrt(1.0 + R[0, 0] - R[1, 1] - R[2, 2])\n",
    "        qw = (R[2, 1] - R[1, 2]) / S\n",
    "        qx = 0.25 * S\n",
    "        qy = (R[0, 1] + R[1, 0]) / S\n",
    "        qz = (R[0, 2] + R[2, 0]) / S\n",
    "    elif R[1, 1] > R[2, 2]:\n",
    "        S = 2.0 * np.sqrt(1.0 + R[1, 1] - R[0, 0] - R[2, 2])\n",
    "        qw = (R[0, 2] - R[2, 0]) / S\n",
    "        qx = (R[0, 1] + R[1, 0]) / S\n",
    "        qy = 0.25 * S\n",
    "        qz = (R[1, 2] + R[2, 1]) / S\n",
    "    else:\n",
    "        S = 2.0 * np.sqrt(1.0 + R[2, 2] - R[0, 0] - R[1, 1])\n",
    "        qw = (R[1, 0] - R[0, 1]) / S\n",
    "        qx = (R[0, 2] + R[2, 0]) / S\n",
    "        qy = (R[1, 2] + R[2, 1]) / S\n",
    "        qz = 0.25 * S\n",
    "    \n",
    "    return np.array([qw, qx, qy, qz])\n",
    "\n",
    "\n",
    "# combined_quaternion_direct = np.quaternion(quaternion1) * np.quaternion(quaternion2)\n",
    "p = rotation_matrix_to_quaternion(rotation_matrix1)\n",
    "q = rotation_matrix_to_quaternion(rotation_matrix2)\n",
    "# Multiply the two quaternions directly\n",
    "def quaternion_multiply(q1, q2):\n",
    "    w1, x1, y1, z1 = q1\n",
    "    w2, x2, y2, z2 = q2\n",
    "    qw = w1 * w2 - x1 * x2 - y1 * y2 - z1 * z2\n",
    "    qx = w1 * x2 + x1 * w2 + y1 * z2 - z1 * y2\n",
    "    qy = w1 * y2 - x1 * z2 + y1 * w2 + z1 * x2\n",
    "    qz = w1 * z2 + x1 * y2 - y1 * x2 + z1 * w2\n",
    "    return np.array([qw, qx, qy, qz])\n",
    "\n",
    "\n",
    "combined_quaternion = quaternion_multiply(p,q)\n",
    "combined_quaternion_direct = rotation_matrix_to_quaternion(combined_rotation_matrix)\n",
    "print(\"Combined Quaternion (Matrix Conversion):\", combined_quaternion)\n",
    "print(\"Combined Quaternion (Direct Multiplication):\", np.array(combined_quaternion_direct))\n",
    "\n",
    "# Check if the two transformations are the same (quaternion multiplication is non-commutative)\n",
    "if np.allclose(combined_quaternion, combined_quaternion_direct):\n",
    "    print(\"Transformations are the same.\")\n",
    "else:\n",
    "    print(\"Transformations are not the same.\")\n"
   ]
  }
 ],
 "metadata": {
  "kernelspec": {
   "display_name": "MR",
   "language": "python",
   "name": "python3"
  },
  "language_info": {
   "codemirror_mode": {
    "name": "ipython",
    "version": 3
   },
   "file_extension": ".py",
   "mimetype": "text/x-python",
   "name": "python",
   "nbconvert_exporter": "python",
   "pygments_lexer": "ipython3",
   "version": "3.9.18"
  }
 },
 "nbformat": 4,
 "nbformat_minor": 2
}
